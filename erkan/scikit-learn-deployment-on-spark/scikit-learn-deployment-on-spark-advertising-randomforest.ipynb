{
 "cells": [
  {
   "cell_type": "code",
   "execution_count": 1,
   "id": "0f5159eb-af6b-4ae8-8d1b-b77c80a15c21",
   "metadata": {},
   "outputs": [],
   "source": [
    "import findspark\n",
    "findspark.init(\"/opt/spark\")"
   ]
  },
  {
   "cell_type": "code",
   "execution_count": 27,
   "id": "465718ae-f6e2-4d35-bbed-ab666de008b2",
   "metadata": {},
   "outputs": [],
   "source": [
    "import datetime as dt\n",
    "\n",
    "import pandas as pd\n",
    "from pyspark.sql import DataFrame, Column, SparkSession\n",
    "#from pyspark.sql.functions import mean, udf, lit, to_json, expr, col, struct\n",
    "from pyspark import SparkContext"
   ]
  },
  {
   "cell_type": "code",
   "execution_count": 3,
   "id": "027066a9-e2aa-48fa-b54c-9b6f424aa9be",
   "metadata": {},
   "outputs": [
    {
     "name": "stdout",
     "output_type": "stream",
     "text": [
      "   ID     TV  Radio  Newspaper  Sales\n",
      "0   1  230.1   37.8       69.2   22.1\n",
      "1   2   44.5   39.3       45.1   10.4\n",
      "2   3   17.2   45.9       69.3    9.3\n",
      "3   4  151.5   41.3       58.5   18.5\n",
      "4   5  180.8   10.8       58.4   12.9\n"
     ]
    }
   ],
   "source": [
    "# read data\n",
    "df = pd.read_csv(\"https://raw.githubusercontent.com/erkansirin78/datasets/master/Advertising.csv\")\n",
    "print(df.head())"
   ]
  },
  {
   "cell_type": "code",
   "execution_count": 4,
   "id": "53ef8047-ed1c-4f94-8e0a-da5e9b96363c",
   "metadata": {},
   "outputs": [
    {
     "name": "stdout",
     "output_type": "stream",
     "text": [
      "(200, 3)\n",
      "[[230.1  37.8  69.2]\n",
      " [ 44.5  39.3  45.1]\n",
      " [ 17.2  45.9  69.3]]\n"
     ]
    }
   ],
   "source": [
    "# Feature matrix\n",
    "X = df.iloc[:, 1:-1].values\n",
    "print(X.shape)\n",
    "print(X[:3])"
   ]
  },
  {
   "cell_type": "code",
   "execution_count": 5,
   "id": "4af85808-5842-4277-954e-5003402d64d1",
   "metadata": {},
   "outputs": [
    {
     "name": "stdout",
     "output_type": "stream",
     "text": [
      "(200,)\n",
      "0    22.1\n",
      "1    10.4\n",
      "2     9.3\n",
      "3    18.5\n",
      "4    12.9\n",
      "5     7.2\n",
      "Name: Sales, dtype: float64\n"
     ]
    }
   ],
   "source": [
    "# Output variable\n",
    "y = df.iloc[:, -1]\n",
    "print(y.shape)\n",
    "print(y[:6])"
   ]
  },
  {
   "cell_type": "code",
   "execution_count": 6,
   "id": "2e036b41-93ed-4890-b921-114677fecbf0",
   "metadata": {},
   "outputs": [],
   "source": [
    "# split test train\n",
    "from sklearn.model_selection import train_test_split"
   ]
  },
  {
   "cell_type": "code",
   "execution_count": 7,
   "id": "23bf7071-c69d-458b-b89b-7baec16aaac7",
   "metadata": {},
   "outputs": [],
   "source": [
    "X_train, X_test, y_train, y_test = train_test_split(X, y, test_size=0.33, random_state=42)"
   ]
  },
  {
   "cell_type": "code",
   "execution_count": 8,
   "id": "f86dbefc-7c5c-4a8b-a670-10d5444d8744",
   "metadata": {},
   "outputs": [],
   "source": [
    "# train model\n",
    "from sklearn.ensemble import RandomForestRegressor"
   ]
  },
  {
   "cell_type": "code",
   "execution_count": 9,
   "id": "69bce531-c87a-460a-97c6-e12ffa900ae8",
   "metadata": {},
   "outputs": [
    {
     "data": {
      "text/html": [
       "<style>#sk-container-id-1 {color: black;}#sk-container-id-1 pre{padding: 0;}#sk-container-id-1 div.sk-toggleable {background-color: white;}#sk-container-id-1 label.sk-toggleable__label {cursor: pointer;display: block;width: 100%;margin-bottom: 0;padding: 0.3em;box-sizing: border-box;text-align: center;}#sk-container-id-1 label.sk-toggleable__label-arrow:before {content: \"▸\";float: left;margin-right: 0.25em;color: #696969;}#sk-container-id-1 label.sk-toggleable__label-arrow:hover:before {color: black;}#sk-container-id-1 div.sk-estimator:hover label.sk-toggleable__label-arrow:before {color: black;}#sk-container-id-1 div.sk-toggleable__content {max-height: 0;max-width: 0;overflow: hidden;text-align: left;background-color: #f0f8ff;}#sk-container-id-1 div.sk-toggleable__content pre {margin: 0.2em;color: black;border-radius: 0.25em;background-color: #f0f8ff;}#sk-container-id-1 input.sk-toggleable__control:checked~div.sk-toggleable__content {max-height: 200px;max-width: 100%;overflow: auto;}#sk-container-id-1 input.sk-toggleable__control:checked~label.sk-toggleable__label-arrow:before {content: \"▾\";}#sk-container-id-1 div.sk-estimator input.sk-toggleable__control:checked~label.sk-toggleable__label {background-color: #d4ebff;}#sk-container-id-1 div.sk-label input.sk-toggleable__control:checked~label.sk-toggleable__label {background-color: #d4ebff;}#sk-container-id-1 input.sk-hidden--visually {border: 0;clip: rect(1px 1px 1px 1px);clip: rect(1px, 1px, 1px, 1px);height: 1px;margin: -1px;overflow: hidden;padding: 0;position: absolute;width: 1px;}#sk-container-id-1 div.sk-estimator {font-family: monospace;background-color: #f0f8ff;border: 1px dotted black;border-radius: 0.25em;box-sizing: border-box;margin-bottom: 0.5em;}#sk-container-id-1 div.sk-estimator:hover {background-color: #d4ebff;}#sk-container-id-1 div.sk-parallel-item::after {content: \"\";width: 100%;border-bottom: 1px solid gray;flex-grow: 1;}#sk-container-id-1 div.sk-label:hover label.sk-toggleable__label {background-color: #d4ebff;}#sk-container-id-1 div.sk-serial::before {content: \"\";position: absolute;border-left: 1px solid gray;box-sizing: border-box;top: 0;bottom: 0;left: 50%;z-index: 0;}#sk-container-id-1 div.sk-serial {display: flex;flex-direction: column;align-items: center;background-color: white;padding-right: 0.2em;padding-left: 0.2em;position: relative;}#sk-container-id-1 div.sk-item {position: relative;z-index: 1;}#sk-container-id-1 div.sk-parallel {display: flex;align-items: stretch;justify-content: center;background-color: white;position: relative;}#sk-container-id-1 div.sk-item::before, #sk-container-id-1 div.sk-parallel-item::before {content: \"\";position: absolute;border-left: 1px solid gray;box-sizing: border-box;top: 0;bottom: 0;left: 50%;z-index: -1;}#sk-container-id-1 div.sk-parallel-item {display: flex;flex-direction: column;z-index: 1;position: relative;background-color: white;}#sk-container-id-1 div.sk-parallel-item:first-child::after {align-self: flex-end;width: 50%;}#sk-container-id-1 div.sk-parallel-item:last-child::after {align-self: flex-start;width: 50%;}#sk-container-id-1 div.sk-parallel-item:only-child::after {width: 0;}#sk-container-id-1 div.sk-dashed-wrapped {border: 1px dashed gray;margin: 0 0.4em 0.5em 0.4em;box-sizing: border-box;padding-bottom: 0.4em;background-color: white;}#sk-container-id-1 div.sk-label label {font-family: monospace;font-weight: bold;display: inline-block;line-height: 1.2em;}#sk-container-id-1 div.sk-label-container {text-align: center;}#sk-container-id-1 div.sk-container {/* jupyter's `normalize.less` sets `[hidden] { display: none; }` but bootstrap.min.css set `[hidden] { display: none !important; }` so we also need the `!important` here to be able to override the default hidden behavior on the sphinx rendered scikit-learn.org. See: https://github.com/scikit-learn/scikit-learn/issues/21755 */display: inline-block !important;position: relative;}#sk-container-id-1 div.sk-text-repr-fallback {display: none;}</style><div id=\"sk-container-id-1\" class=\"sk-top-container\"><div class=\"sk-text-repr-fallback\"><pre>RandomForestRegressor(n_estimators=200)</pre><b>In a Jupyter environment, please rerun this cell to show the HTML representation or trust the notebook. <br />On GitHub, the HTML representation is unable to render, please try loading this page with nbviewer.org.</b></div><div class=\"sk-container\" hidden><div class=\"sk-item\"><div class=\"sk-estimator sk-toggleable\"><input class=\"sk-toggleable__control sk-hidden--visually\" id=\"sk-estimator-id-1\" type=\"checkbox\" checked><label for=\"sk-estimator-id-1\" class=\"sk-toggleable__label sk-toggleable__label-arrow\">RandomForestRegressor</label><div class=\"sk-toggleable__content\"><pre>RandomForestRegressor(n_estimators=200)</pre></div></div></div></div></div>"
      ],
      "text/plain": [
       "RandomForestRegressor(n_estimators=200)"
      ]
     },
     "execution_count": 9,
     "metadata": {},
     "output_type": "execute_result"
    }
   ],
   "source": [
    "estimator = RandomForestRegressor(n_estimators=200)\n",
    "estimator.fit(X_train, y_train)"
   ]
  },
  {
   "cell_type": "code",
   "execution_count": 10,
   "id": "f0250824-b2f3-48be-a9de-18e84d5d4303",
   "metadata": {},
   "outputs": [],
   "source": [
    "# Test model\n",
    "y_pred = estimator.predict(X_test)\n",
    "from sklearn.metrics import r2_score"
   ]
  },
  {
   "cell_type": "code",
   "execution_count": 11,
   "id": "3bd87eea-b230-4997-b09f-1b9537596b05",
   "metadata": {},
   "outputs": [
    {
     "name": "stdout",
     "output_type": "stream",
     "text": [
      "R2: 0.9822621361303673\n"
     ]
    }
   ],
   "source": [
    "r2 = r2_score(y_true=y_test, y_pred=y_pred)\n",
    "print(f\"R2: {r2}\")"
   ]
  },
  {
   "cell_type": "code",
   "execution_count": 12,
   "id": "25c6c3d2-a249-4aa0-92e5-49743c4d78a9",
   "metadata": {},
   "outputs": [
    {
     "data": {
      "text/plain": [
       "['randomforest_with_advertising.pkl']"
      ]
     },
     "execution_count": 12,
     "metadata": {},
     "output_type": "execute_result"
    }
   ],
   "source": [
    "# Save Model\n",
    "import joblib\n",
    "joblib.dump(estimator, \"randomforest_with_advertising.pkl\")"
   ]
  },
  {
   "cell_type": "code",
   "execution_count": 13,
   "id": "b718e7c2-f4b3-4b6c-81d1-8d841c65d05d",
   "metadata": {},
   "outputs": [],
   "source": [
    "# make predictions\n",
    "# Read models\n",
    "estimator_loaded = joblib.load(\"randomforest_with_advertising.pkl\")"
   ]
  },
  {
   "cell_type": "code",
   "execution_count": 14,
   "id": "674740a1-9d8c-4175-8e6d-748c24e6a53e",
   "metadata": {},
   "outputs": [
    {
     "name": "stdout",
     "output_type": "stream",
     "text": [
      "X_manual_test [[230.1, 37.8, 69.2]]\n",
      "prediction [21.998]\n"
     ]
    }
   ],
   "source": [
    "# Prediction set\n",
    "X_manual_test = [[230.1,37.8,69.2]]\n",
    "print(\"X_manual_test\", X_manual_test)\n",
    "\n",
    "prediction = estimator_loaded.predict(X_manual_test)\n",
    "print(\"prediction\", prediction)"
   ]
  },
  {
   "cell_type": "code",
   "execution_count": 15,
   "id": "69b6e2af-8bbd-491c-b8c0-3a6d83cd141b",
   "metadata": {},
   "outputs": [],
   "source": [
    "def prediction(df:DataFrame, model, spark_context:SparkContext) -> Column:\n",
    "    \"\"\"\n",
    "    Predicts using a given model and a Spark dataframe.\n",
    "\n",
    "    Parameters\n",
    "    ----------\n",
    "    df : pyspark.sql.dataframe.DataFrame\n",
    "        Spark dataframe containing the data to be predicted\n",
    "    model : object\n",
    "        Model object to be used for prediction\n",
    "    spark_context : Spark Context\n",
    "        Spark Context instance\n",
    "\n",
    "    Returns\n",
    "    -------\n",
    "    pyspark.sql.column.Column\n",
    "        Spark dataframe column containing the predicted values\n",
    "    \"\"\"\n",
    "    model = spark_context.broadcast(model)\n",
    "\n",
    "    @udf('integer')\n",
    "    def predict_data(*cols):\n",
    "        return int(model.value.predict((cols,)))\n",
    "\n",
    "    return predict_data(*df.columns)"
   ]
  },
  {
   "cell_type": "code",
   "execution_count": 16,
   "id": "9355f035-f6f3-4fff-9768-d52ed2e376f6",
   "metadata": {},
   "outputs": [
    {
     "name": "stderr",
     "output_type": "stream",
     "text": [
      "Setting default log level to \"WARN\".\n",
      "To adjust logging level use sc.setLogLevel(newLevel). For SparkR, use setLogLevel(newLevel).\n",
      "24/07/02 17:06:43 WARN NativeCodeLoader: Unable to load native-hadoop library for your platform... using builtin-java classes where applicable\n"
     ]
    }
   ],
   "source": [
    "spark = SparkSession.builder.appName(\"Spark ML\").master(\"local[*]\").getOrCreate()"
   ]
  },
  {
   "cell_type": "code",
   "execution_count": null,
   "id": "8a3ef587-e823-40c8-85bc-8b5d0f80296d",
   "metadata": {},
   "outputs": [],
   "source": []
  },
  {
   "cell_type": "code",
   "execution_count": 17,
   "id": "84be7f8a-7f95-4e23-a31d-b8207f3a98ba",
   "metadata": {},
   "outputs": [],
   "source": [
    "sc = spark.sparkContext"
   ]
  },
  {
   "cell_type": "code",
   "execution_count": 30,
   "id": "15e24209-3c9b-4c6b-a6e5-ab851845416d",
   "metadata": {},
   "outputs": [
    {
     "name": "stderr",
     "output_type": "stream",
     "text": [
      "24/07/02 17:48:03 WARN SparkContext: The path https://raw.githubusercontent.com/erkansirin78/datasets/master/Advertising.csv has been added already. Overwriting of added paths is not supported in the current version.\n"
     ]
    },
    {
     "name": "stdout",
     "output_type": "stream",
     "text": [
      "+---+-----+-----+---------+-----+\n",
      "| ID|   TV|Radio|Newspaper|Sales|\n",
      "+---+-----+-----+---------+-----+\n",
      "|  1|230.1| 37.8|     69.2| 22.1|\n",
      "|  2| 44.5| 39.3|     45.1| 10.4|\n",
      "|  3| 17.2| 45.9|     69.3|  9.3|\n",
      "|  4|151.5| 41.3|     58.5| 18.5|\n",
      "|  5|180.8| 10.8|     58.4| 12.9|\n",
      "+---+-----+-----+---------+-----+\n",
      "only showing top 5 rows\n",
      "\n"
     ]
    }
   ],
   "source": [
    "from pyspark import SparkFiles\n",
    "github_url=\"https://raw.githubusercontent.com/erkansirin78/datasets/master/Advertising.csv\"\n",
    "sc.addFile(github_url)\n",
    "df = spark.read.csv(SparkFiles.get(\"Advertising.csv\"),header= True, inferSchema=True)\n",
    "df.show(5)"
   ]
  },
  {
   "cell_type": "code",
   "execution_count": 20,
   "id": "7cc7ee19-b57b-4117-8776-49ce41cbada9",
   "metadata": {},
   "outputs": [],
   "source": [
    "pred = prediction(df=df, model=estimator_loaded, spark_context=sc)"
   ]
  },
  {
   "cell_type": "code",
   "execution_count": 25,
   "id": "74aba72c-c88d-4d91-ab37-38b223e22c1d",
   "metadata": {},
   "outputs": [],
   "source": [
    "df_pred = df.withColumn(\"PREDICTION\", prediction(df=df.select('TV','Radio','Newspaper'), model=estimator_loaded, spark_context=sc))"
   ]
  },
  {
   "cell_type": "code",
   "execution_count": 31,
   "id": "0b80a513-a14c-4eb0-8ad9-e3f9d8fb937b",
   "metadata": {},
   "outputs": [
    {
     "name": "stderr",
     "output_type": "stream",
     "text": [
      "[Stage 8:>                                                          (0 + 1) / 1]\r"
     ]
    },
    {
     "name": "stdout",
     "output_type": "stream",
     "text": [
      "+---+-----+-----+---------+-----+----------+\n",
      "| ID|   TV|Radio|Newspaper|Sales|PREDICTION|\n",
      "+---+-----+-----+---------+-----+----------+\n",
      "|  1|230.1| 37.8|     69.2| 22.1|        21|\n",
      "|  2| 44.5| 39.3|     45.1| 10.4|        10|\n",
      "|  3| 17.2| 45.9|     69.3|  9.3|         8|\n",
      "|  4|151.5| 41.3|     58.5| 18.5|        18|\n",
      "|  5|180.8| 10.8|     58.4| 12.9|        13|\n",
      "+---+-----+-----+---------+-----+----------+\n",
      "only showing top 5 rows\n",
      "\n"
     ]
    },
    {
     "name": "stderr",
     "output_type": "stream",
     "text": [
      "                                                                                \r"
     ]
    }
   ],
   "source": [
    "df_pred.show(5)"
   ]
  },
  {
   "cell_type": "code",
   "execution_count": 28,
   "id": "62ef0cad-e3b2-4f8a-9399-203538b0ce9b",
   "metadata": {},
   "outputs": [
    {
     "data": {
      "text/plain": [
       "'3.5.1'"
      ]
     },
     "execution_count": 28,
     "metadata": {},
     "output_type": "execute_result"
    }
   ],
   "source": [
    "spark.version"
   ]
  },
  {
   "cell_type": "code",
   "execution_count": 29,
   "id": "07b27490-13f2-4769-bef8-c4a0d1ede3e0",
   "metadata": {},
   "outputs": [
    {
     "name": "stdout",
     "output_type": "stream",
     "text": [
      "Python 3.8.10\n"
     ]
    }
   ],
   "source": [
    "! python -V"
   ]
  },
  {
   "cell_type": "code",
   "execution_count": null,
   "id": "7939ab2a-019c-4f34-af66-bb806d20c2a4",
   "metadata": {},
   "outputs": [],
   "source": []
  }
 ],
 "metadata": {
  "kernelspec": {
   "display_name": "Python 3 (ipykernel)",
   "language": "python",
   "name": "python3"
  },
  "language_info": {
   "codemirror_mode": {
    "name": "ipython",
    "version": 3
   },
   "file_extension": ".py",
   "mimetype": "text/x-python",
   "name": "python",
   "nbconvert_exporter": "python",
   "pygments_lexer": "ipython3",
   "version": "3.8.10"
  }
 },
 "nbformat": 4,
 "nbformat_minor": 5
}
