{
 "cells": [
  {
   "cell_type": "code",
   "execution_count": 1,
   "id": "a2c4385a-e042-40ce-830f-a6583fff9d40",
   "metadata": {},
   "outputs": [],
   "source": [
    "import findspark\n",
    "findspark.init(\"/opt/spark/\")"
   ]
  },
  {
   "cell_type": "code",
   "execution_count": 2,
   "id": "4c1f3b86-1dbb-4dee-843b-5d1cc4f4c8b0",
   "metadata": {},
   "outputs": [],
   "source": [
    "from pyspark.sql import SparkSession, functions as F"
   ]
  },
  {
   "cell_type": "code",
   "execution_count": 3,
   "id": "7ecda862-abd3-4715-8f99-e589813ca008",
   "metadata": {},
   "outputs": [],
   "source": [
    "# Full url of the Nessie API endpoint to nessie\n",
    "url = \"http://nessie:19120/api/v1\"\n",
    "# Where to store nessie tables\n",
    "full_path_to_warehouse = 's3a://warehouse'\n",
    "# The ref or context that nessie will operate on (if different from default branch).\n",
    "# Can be the name of a Nessie branch or tag name.\n",
    "ref = \"main\"\n",
    "# Nessie authentication type (NONE, BEARER, OAUTH2 or AWS)\n",
    "auth_type = \"NONE\"\n",
    "\n",
    "s3_endpoint = \"http://minio:9000\"\n",
    "\n",
    "accessKeyId='minioadmin'\n",
    "secretAccessKey='minioadmin'"
   ]
  },
  {
   "cell_type": "code",
   "execution_count": 4,
   "id": "6485af5c-3eee-4c7c-8ed8-0ddd6a86fe4e",
   "metadata": {},
   "outputs": [
    {
     "name": "stdout",
     "output_type": "stream",
     "text": [
      ":: loading settings :: url = jar:file:/opt/spark/jars/ivy-2.5.1.jar!/org/apache/ivy/core/settings/ivysettings.xml\n"
     ]
    },
    {
     "name": "stderr",
     "output_type": "stream",
     "text": [
      "Ivy Default Cache set to: /root/.ivy2/cache\n",
      "The jars for the packages stored in: /root/.ivy2/jars\n",
      "org.apache.hadoop#hadoop-aws added as a dependency\n",
      "io.delta#delta-core_2.12 added as a dependency\n",
      "org.apache.iceberg#iceberg-spark-runtime-3.4_2.12 added as a dependency\n",
      "org.projectnessie.nessie-integrations#nessie-spark-extensions-3.4_2.12 added as a dependency\n",
      ":: resolving dependencies :: org.apache.spark#spark-submit-parent-c7c2c9a8-e626-42ba-b6f7-793140e86de8;1.0\n",
      "\tconfs: [default]\n",
      "\tfound org.apache.hadoop#hadoop-aws;3.3.0 in central\n",
      "\tfound com.amazonaws#aws-java-sdk-bundle;1.11.563 in central\n",
      "\tfound org.wildfly.openssl#wildfly-openssl;1.0.7.Final in central\n",
      "\tfound io.delta#delta-core_2.12;2.4.0 in central\n",
      "\tfound io.delta#delta-storage;2.4.0 in central\n",
      "\tfound org.antlr#antlr4-runtime;4.9.3 in central\n",
      "\tfound org.apache.iceberg#iceberg-spark-runtime-3.4_2.12;1.3.0 in central\n",
      "\tfound org.projectnessie.nessie-integrations#nessie-spark-extensions-3.4_2.12;0.75.0 in central\n",
      ":: resolution report :: resolve 999ms :: artifacts dl 96ms\n",
      "\t:: modules in use:\n",
      "\tcom.amazonaws#aws-java-sdk-bundle;1.11.563 from central in [default]\n",
      "\tio.delta#delta-core_2.12;2.4.0 from central in [default]\n",
      "\tio.delta#delta-storage;2.4.0 from central in [default]\n",
      "\torg.antlr#antlr4-runtime;4.9.3 from central in [default]\n",
      "\torg.apache.hadoop#hadoop-aws;3.3.0 from central in [default]\n",
      "\torg.apache.iceberg#iceberg-spark-runtime-3.4_2.12;1.3.0 from central in [default]\n",
      "\torg.projectnessie.nessie-integrations#nessie-spark-extensions-3.4_2.12;0.75.0 from central in [default]\n",
      "\torg.wildfly.openssl#wildfly-openssl;1.0.7.Final from central in [default]\n",
      "\t---------------------------------------------------------------------\n",
      "\t|                  |            modules            ||   artifacts   |\n",
      "\t|       conf       | number| search|dwnlded|evicted|| number|dwnlded|\n",
      "\t---------------------------------------------------------------------\n",
      "\t|      default     |   8   |   0   |   0   |   0   ||   8   |   0   |\n",
      "\t---------------------------------------------------------------------\n",
      ":: retrieving :: org.apache.spark#spark-submit-parent-c7c2c9a8-e626-42ba-b6f7-793140e86de8\n",
      "\tconfs: [default]\n",
      "\t0 artifacts copied, 8 already retrieved (0kB/25ms)\n",
      "23/12/26 06:17:02 WARN NativeCodeLoader: Unable to load native-hadoop library for your platform... using builtin-java classes where applicable\n",
      "Setting default log level to \"WARN\".\n",
      "To adjust logging level use sc.setLogLevel(newLevel). For SparkR, use setLogLevel(newLevel).\n"
     ]
    }
   ],
   "source": [
    "# Find compatible versions here: https://projectnessie.org/tools/iceberg/spark/\n",
    "spark = (\n",
    "    SparkSession.builder\n",
    "    .master(\"local[2]\")\n",
    "    .appName(\"Spark Nessie Iceberg Demo\")\n",
    "    .config(\"spark.driver.memory\", \"2g\")\n",
    "    .config('spark.jars.packages',\n",
    "            'org.apache.hadoop:hadoop-aws:3.3.0,io.delta:delta-core_2.12:2.4.0,org.apache.iceberg:iceberg-spark-runtime-3.4_2.12:1.3.0,org.projectnessie.nessie-integrations:nessie-spark-extensions-3.4_2.12:0.75.0')\n",
    "    .config(\"spark.hadoop.fs.s3a.access.key\", accessKeyId)\n",
    "    .config(\"spark.hadoop.fs.s3a.secret.key\", secretAccessKey)\n",
    "    .config(\"spark.hadoop.fs.s3a.path.style.access\", True)\n",
    "    .config(\"spark.hadoop.fs.s3a.impl\", \"org.apache.hadoop.fs.s3a.S3AFileSystem\")\n",
    "    .config(\"spark.hadoop.fs.s3a.endpoint\", s3_endpoint)\n",
    "    .config(\"spark.sql.extensions\", \"org.apache.iceberg.spark.extensions.IcebergSparkSessionExtensions,org.projectnessie.spark.extensions.NessieSparkSessionExtensions\")\n",
    "    .config(\"spark.sql.catalog.nessie.uri\", url)\n",
    "    .config(\"spark.sql.catalog.nessie.ref\", ref)\n",
    "    .config(\"spark.sql.catalog.nessie.authentication.type\", auth_type)\n",
    "    .config(\"spark.sql.catalog.nessie.catalog-impl\", \"org.apache.iceberg.nessie.NessieCatalog\")\n",
    "    .config(\"spark.sql.catalog.nessie.warehouse\", full_path_to_warehouse)\n",
    "    .config(\"spark.sql.catalog.nessie\", \"org.apache.iceberg.spark.SparkCatalog\")\n",
    "    .getOrCreate()\n",
    ")"
   ]
  },
  {
   "cell_type": "code",
   "execution_count": 5,
   "id": "17a2a7c7-3f0b-47ea-9806-7ba96dd2cf93",
   "metadata": {},
   "outputs": [
    {
     "data": {
      "text/plain": [
       "'3.4.1'"
      ]
     },
     "execution_count": 5,
     "metadata": {},
     "output_type": "execute_result"
    }
   ],
   "source": [
    "spark.version"
   ]
  },
  {
   "cell_type": "code",
   "execution_count": 17,
   "id": "c2eb4954-1bcc-4a31-be37-9f3ee83a6357",
   "metadata": {},
   "outputs": [
    {
     "name": "stderr",
     "output_type": "stream",
     "text": [
      "23/12/26 06:34:58 WARN SparkContext: The path https://raw.githubusercontent.com/erkansirin78/datasets/master/Churn_Modelling.csv has been added already. Overwriting of added paths is not supported in the current version.\n"
     ]
    },
    {
     "name": "stdout",
     "output_type": "stream",
     "text": [
      "+---------+----------+--------+-----------+---------+------+---+------+--------+-------------+---------+--------------+---------------+------+\n",
      "|RowNumber|CustomerId| Surname|CreditScore|Geography|Gender|Age|Tenure| Balance|NumOfProducts|HasCrCard|IsActiveMember|EstimatedSalary|Exited|\n",
      "+---------+----------+--------+-----------+---------+------+---+------+--------+-------------+---------+--------------+---------------+------+\n",
      "|        1|  15634602|Hargrave|        619|   France|Female| 42|     2|     0.0|            1|        1|             1|      101348.88|     1|\n",
      "|        2|  15647311|    Hill|        608|    Spain|Female| 41|     1|83807.86|            1|        0|             1|      112542.58|     0|\n",
      "|        3|  15619304|    Onio|        502|   France|Female| 42|     8|159660.8|            3|        1|             0|      113931.57|     1|\n",
      "+---------+----------+--------+-----------+---------+------+---+------+--------+-------------+---------+--------------+---------------+------+\n",
      "only showing top 3 rows\n",
      "\n"
     ]
    }
   ],
   "source": [
    "from pyspark import SparkFiles\n",
    "sc = spark.sparkContext\n",
    "github_url=\"https://raw.githubusercontent.com/erkansirin78/datasets/master/Churn_Modelling.csv\"\n",
    "sc.addFile(github_url)\n",
    "df = spark.read.csv(SparkFiles.get(\"Churn_Modelling.csv\"),header= True, inferSchema=True)\n",
    "df.show(3)"
   ]
  },
  {
   "cell_type": "markdown",
   "id": "2cc047b4-1810-403f-b01a-0ca3f1a5b35b",
   "metadata": {},
   "source": [
    "# Create namespace nessie catalog"
   ]
  },
  {
   "cell_type": "code",
   "execution_count": 18,
   "id": "16b440e4-f403-44f3-88fe-99f60e21067b",
   "metadata": {},
   "outputs": [
    {
     "data": {
      "text/plain": [
       "DataFrame[]"
      ]
     },
     "execution_count": 18,
     "metadata": {},
     "output_type": "execute_result"
    }
   ],
   "source": [
    "spark.sql(\"CREATE NAMESPACE IF NOT EXISTS nessie.demo;\")"
   ]
  },
  {
   "cell_type": "markdown",
   "id": "ffb684db-c31d-4fef-9867-27adec834558",
   "metadata": {},
   "source": [
    "# Create table in nessie namespace"
   ]
  },
  {
   "cell_type": "code",
   "execution_count": 25,
   "id": "4a11c28d-c492-47e0-bfa8-fe304d731bef",
   "metadata": {},
   "outputs": [
    {
     "data": {
      "text/plain": [
       "DataFrame[]"
      ]
     },
     "execution_count": 25,
     "metadata": {},
     "output_type": "execute_result"
    }
   ],
   "source": [
    "spark.sql(\"DROP TABLE IF EXISTS nessie.demo.churn;\")"
   ]
  },
  {
   "cell_type": "code",
   "execution_count": 26,
   "id": "e2841472-2d1e-468b-966c-8edbad2b507e",
   "metadata": {},
   "outputs": [],
   "source": [
    "spark.createDataFrame([], df.schema).writeTo(\"nessie.demo.churn\").create()\n",
    "# df.writeTo(\"nessie.demo.churn\").create()\n"
   ]
  },
  {
   "cell_type": "markdown",
   "id": "a31b06b7-f92a-4288-aa2d-9dd60677544e",
   "metadata": {},
   "source": [
    "# Write dataframe to iceberg table"
   ]
  },
  {
   "cell_type": "code",
   "execution_count": 27,
   "id": "1fb3319b-d5de-4dcb-a45f-fed290ad493e",
   "metadata": {},
   "outputs": [],
   "source": [
    "df.write.format(\"iceberg\").mode(\"overwrite\") \\\n",
    "    .save(\"nessie.demo.churn\")"
   ]
  },
  {
   "cell_type": "markdown",
   "id": "3a1e4585-1d3d-46a6-bc22-5f606aa65625",
   "metadata": {},
   "source": [
    "# Read table"
   ]
  },
  {
   "cell_type": "code",
   "execution_count": 28,
   "id": "b7bf68db-87e9-4717-a3b0-abe3fcd9c61c",
   "metadata": {},
   "outputs": [],
   "source": [
    "df_from_iceberg = spark.table(\"nessie.demo.churn\")"
   ]
  },
  {
   "cell_type": "code",
   "execution_count": 29,
   "id": "1c48f91d-e3d9-4805-ba92-e3238318226b",
   "metadata": {},
   "outputs": [
    {
     "name": "stdout",
     "output_type": "stream",
     "text": [
      "+---------+----------+---------+-----------+---------+------+---+------+---------+-------------+---------+--------------+---------------+------+\n",
      "|RowNumber|CustomerId|  Surname|CreditScore|Geography|Gender|Age|Tenure|  Balance|NumOfProducts|HasCrCard|IsActiveMember|EstimatedSalary|Exited|\n",
      "+---------+----------+---------+-----------+---------+------+---+------+---------+-------------+---------+--------------+---------------+------+\n",
      "|        1|  15634602| Hargrave|        619|   France|Female| 42|     2|      0.0|            1|        1|             1|      101348.88|     1|\n",
      "|        2|  15647311|     Hill|        608|    Spain|Female| 41|     1| 83807.86|            1|        0|             1|      112542.58|     0|\n",
      "|        3|  15619304|     Onio|        502|   France|Female| 42|     8| 159660.8|            3|        1|             0|      113931.57|     1|\n",
      "|        4|  15701354|     Boni|        699|   France|Female| 39|     1|      0.0|            2|        0|             0|       93826.63|     0|\n",
      "|        5|  15737888| Mitchell|        850|    Spain|Female| 43|     2|125510.82|            1|        1|             1|        79084.1|     0|\n",
      "|        6|  15574012|      Chu|        645|    Spain|  Male| 44|     8|113755.78|            2|        1|             0|      149756.71|     1|\n",
      "|        7|  15592531| Bartlett|        822|   France|  Male| 50|     7|      0.0|            2|        1|             1|        10062.8|     0|\n",
      "|        8|  15656148|   Obinna|        376|  Germany|Female| 29|     4|115046.74|            4|        1|             0|      119346.88|     1|\n",
      "|        9|  15792365|       He|        501|   France|  Male| 44|     4|142051.07|            2|        0|             1|        74940.5|     0|\n",
      "|       10|  15592389|       H?|        684|   France|  Male| 27|     2|134603.88|            1|        1|             1|       71725.73|     0|\n",
      "|       11|  15767821|   Bearce|        528|   France|  Male| 31|     6|102016.72|            2|        0|             0|       80181.12|     0|\n",
      "|       12|  15737173|  Andrews|        497|    Spain|  Male| 24|     3|      0.0|            2|        1|             0|       76390.01|     0|\n",
      "|       13|  15632264|      Kay|        476|   France|Female| 34|    10|      0.0|            2|        1|             0|       26260.98|     0|\n",
      "|       14|  15691483|     Chin|        549|   France|Female| 25|     5|      0.0|            2|        0|             0|      190857.79|     0|\n",
      "|       15|  15600882|    Scott|        635|    Spain|Female| 35|     7|      0.0|            2|        1|             1|       65951.65|     0|\n",
      "|       16|  15643966|  Goforth|        616|  Germany|  Male| 45|     3|143129.41|            2|        0|             1|       64327.26|     0|\n",
      "|       17|  15737452|    Romeo|        653|  Germany|  Male| 58|     1|132602.88|            1|        1|             0|        5097.67|     1|\n",
      "|       18|  15788218|Henderson|        549|    Spain|Female| 24|     9|      0.0|            2|        1|             1|       14406.41|     0|\n",
      "|       19|  15661507|  Muldrow|        587|    Spain|  Male| 45|     6|      0.0|            1|        0|             0|      158684.81|     0|\n",
      "|       20|  15568982|      Hao|        726|   France|Female| 24|     6|      0.0|            2|        1|             1|       54724.03|     0|\n",
      "+---------+----------+---------+-----------+---------+------+---+------+---------+-------------+---------+--------------+---------------+------+\n",
      "only showing top 20 rows\n",
      "\n"
     ]
    }
   ],
   "source": [
    "df_from_iceberg.show()"
   ]
  },
  {
   "cell_type": "code",
   "execution_count": null,
   "id": "315449ec-fc13-4dfc-b21a-c12526956e42",
   "metadata": {},
   "outputs": [],
   "source": []
  }
 ],
 "metadata": {
  "kernelspec": {
   "display_name": "Python 3 (ipykernel)",
   "language": "python",
   "name": "python3"
  },
  "language_info": {
   "codemirror_mode": {
    "name": "ipython",
    "version": 3
   },
   "file_extension": ".py",
   "mimetype": "text/x-python",
   "name": "python",
   "nbconvert_exporter": "python",
   "pygments_lexer": "ipython3",
   "version": "3.8.18"
  }
 },
 "nbformat": 4,
 "nbformat_minor": 5
}
